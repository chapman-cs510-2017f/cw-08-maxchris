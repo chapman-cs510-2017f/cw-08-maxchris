{
 "cells": [
  {
   "cell_type": "markdown",
   "metadata": {
    "collapsed": false
   },
   "source": [
    "# Julia in Julia\n",
    "## Maksym Solodovskyi & Chris Watkins"
   ]
  },
  {
   "cell_type": "code",
   "execution_count": 1,
   "metadata": {
    "collapsed": false
   },
   "outputs": [
    {
     "data": {
      "text/markdown": [
       "juliamap(c,z; maxiter) :   Implement the iteration algorithm for a Julia Set.\n",
       "\n",
       "**Returns:** integer number of iterations, or zero if the iteration never diverges.\n",
       "\n",
       "  * c : complex constant definining the set\n",
       "  * z : complex number being iterated\n",
       "  * maxiter : maximum iteration number, defaults to 100\n"
      ]
     },
     "execution_count": 1,
     "metadata": {
     },
     "output_type": "execute_result"
    }
   ],
   "source": [
    "\"\"\"\n",
    "juliamap(c,z; maxiter) :\n",
    "  Implement the iteration algorithm for a Julia Set.\n",
    "\n",
    "**Returns:** integer number of iterations, or zero\n",
    "if the iteration never diverges.\n",
    "\n",
    " - c : complex constant definining the set\n",
    " - z : complex number being iterated\n",
    " - maxiter : maximum iteration number, defaults to 100\n",
    "\"\"\"\n",
    "function juliamap(c, z; maxiter=100)\n",
    "    for n = 1:maxiter\n",
    "        z = z^2 + c\n",
    "        if abs(z) > 2\n",
    "            return n\n",
    "        end\n",
    "    end\n",
    "    return 0\n",
    "end\n",
    "\n",
    "@doc juliamap"
   ]
  },
  {
   "cell_type": "code",
   "execution_count": 2,
   "metadata": {
    "collapsed": false
   },
   "outputs": [
    {
     "name": "stdout",
     "output_type": "stream",
     "text": [
      "33"
     ]
    },
    {
     "name": "stdout",
     "output_type": "stream",
     "text": [
      "[0"
     ]
    },
    {
     "name": "stdout",
     "output_type": "stream",
     "text": [
      ", 0, 0, 0, 0, 0, 0, 0, 0, 0, 0, 0, 0, 0, 0, 0, 0, 0, 0, 0, 0, 0, 0, 0, 0, 0, 0, 0, 0, 0, 0, 0, 0, 0, 0, 0, 0, 0, 0, 0, 0, 0, 0, 0, 0, 0, 0, 0, 0, 0, 0, 0, 0, 0, 0, 0, 0, 0, 0, 0, 0, 7, 6, 5, 4, 4, 4, 4, 3, 3, 3, 3, 3, 3, 3, 2, 2, 2, 2, 2, 2, 2, 2, 2, 2, 2, 2, 2, 2, 2, 2, 1, 1, 1, 1, 1, 1, 1, 1, 1]"
     ]
    }
   ],
   "source": [
    "# Specialize juliamap to c=0\n",
    "j0(z) = juliamap(0,z)\n",
    "\n",
    "# Evaluate j0 on single complex points. Note: im is the imaginary unit in Julia\n",
    "print( j0( complex(1.1, 0.3) ) )  # Recommended construction for complex numbers\n",
    "print( j0( 1.1 + 0.3im ) )       # Equivalent result, but constructs z in 2 steps\n",
    "\n",
    "# Evaluate j0 across an array - the . notation automatically vectorizes any function\n",
    "a = linspace(complex(0.1,0.3), complex(1.5,0.3), 100)\n",
    "print( j0.(a) )"
   ]
  },
  {
   "cell_type": "markdown",
   "metadata": {
    "collapsed": false
   },
   "source": [
    "What this is doing is first initializing the juliamap with c=0, to define a function of one variable. We evaluate for specific z, then for x = 0.1:1.5, y=0.3:0.3, with 100 steps for x and and evaluate the juliamap for these z values."
   ]
  },
  {
   "cell_type": "code",
   "execution_count": 3,
   "metadata": {
    "collapsed": false
   },
   "outputs": [
    {
     "data": {
      "text/plain": [
       "complex_plane (generic function with 5 methods)"
      ]
     },
     "execution_count": 3,
     "metadata": {
     },
     "output_type": "execute_result"
    }
   ],
   "source": [
    "# Create a complex plane\n",
    "function complex_plane(xmin=-2, xmax=2, ymin=-2, ymax=2; xpoints=2000, ypoints=2000)\n",
    "    # y is a column vector\n",
    "    y = linspace(ymin, ymax, ypoints)\n",
    "\n",
    "    # x uses a transpose, yielding a row vector\n",
    "    x = linspace(xmin, xmax, xpoints)'\n",
    "\n",
    "    # z uses broadcasted addition and multiplication to create a plane\n",
    "    z = x.+ y.*im;\n",
    "\n",
    "    # The final line of a block is treated as the return value, in the absence\n",
    "    # of an explicit return statement\n",
    "end"
   ]
  },
  {
   "cell_type": "code",
   "execution_count": 4,
   "metadata": {
    "collapsed": false
   },
   "outputs": [
    {
     "name": "stdout",
     "output_type": "stream",
     "text": [
      "  0.361221 seconds (156.14 k allocations: 68.799 MiB, 27.80% gc time)\n",
      " "
     ]
    },
    {
     "name": "stdout",
     "output_type": "stream",
     "text": [
      " 0.945641 seconds (76.03 k allocations: 34.587 MiB, 1.99% gc time)\n"
     ]
    },
    {
     "data": {
      "text/plain": [
       "2000×2000 Array{Int64,2}:\n",
       " 1  1  1  1  1  1  1  1  1  1  1  1  1  …  1  1  1  1  1  1  1  1  1  1  1  1\n",
       " 1  1  1  1  1  1  1  1  1  1  1  1  1     1  1  1  1  1  1  1  1  1  1  1  1\n",
       " 1  1  1  1  1  1  1  1  1  1  1  1  1     1  1  1  1  1  1  1  1  1  1  1  1\n",
       " 1  1  1  1  1  1  1  1  1  1  1  1  1     1  1  1  1  1  1  1  1  1  1  1  1\n",
       " 1  1  1  1  1  1  1  1  1  1  1  1  1     1  1  1  1  1  1  1  1  1  1  1  1\n",
       " 1  1  1  1  1  1  1  1  1  1  1  1  1  …  1  1  1  1  1  1  1  1  1  1  1  1\n",
       " 1  1  1  1  1  1  1  1  1  1  1  1  1     1  1  1  1  1  1  1  1  1  1  1  1\n",
       " 1  1  1  1  1  1  1  1  1  1  1  1  1     1  1  1  1  1  1  1  1  1  1  1  1\n",
       " 1  1  1  1  1  1  1  1  1  1  1  1  1     1  1  1  1  1  1  1  1  1  1  1  1\n",
       " 1  1  1  1  1  1  1  1  1  1  1  1  1     1  1  1  1  1  1  1  1  1  1  1  1\n",
       " 1  1  1  1  1  1  1  1  1  1  1  1  1  …  1  1  1  1  1  1  1  1  1  1  1  1\n",
       " 1  1  1  1  1  1  1  1  1  1  1  1  1     1  1  1  1  1  1  1  1  1  1  1  1\n",
       " 1  1  1  1  1  1  1  1  1  1  1  1  1     1  1  1  1  1  1  1  1  1  1  1  1\n",
       " ⋮              ⋮              ⋮        ⋱        ⋮              ⋮            \n",
       " 1  1  1  1  1  1  1  1  1  1  1  1  1     1  1  1  1  1  1  1  1  1  1  1  1\n",
       " 1  1  1  1  1  1  1  1  1  1  1  1  1     1  1  1  1  1  1  1  1  1  1  1  1\n",
       " 1  1  1  1  1  1  1  1  1  1  1  1  1  …  1  1  1  1  1  1  1  1  1  1  1  1\n",
       " 1  1  1  1  1  1  1  1  1  1  1  1  1     1  1  1  1  1  1  1  1  1  1  1  1\n",
       " 1  1  1  1  1  1  1  1  1  1  1  1  1     1  1  1  1  1  1  1  1  1  1  1  1\n",
       " 1  1  1  1  1  1  1  1  1  1  1  1  1     1  1  1  1  1  1  1  1  1  1  1  1\n",
       " 1  1  1  1  1  1  1  1  1  1  1  1  1     1  1  1  1  1  1  1  1  1  1  1  1\n",
       " 1  1  1  1  1  1  1  1  1  1  1  1  1  …  1  1  1  1  1  1  1  1  1  1  1  1\n",
       " 1  1  1  1  1  1  1  1  1  1  1  1  1     1  1  1  1  1  1  1  1  1  1  1  1\n",
       " 1  1  1  1  1  1  1  1  1  1  1  1  1     1  1  1  1  1  1  1  1  1  1  1  1\n",
       " 1  1  1  1  1  1  1  1  1  1  1  1  1     1  1  1  1  1  1  1  1  1  1  1  1\n",
       " 1  1  1  1  1  1  1  1  1  1  1  1  1     1  1  1  1  1  1  1  1  1  1  1  1"
      ]
     },
     "execution_count": 4,
     "metadata": {
     },
     "output_type": "execute_result"
    }
   ],
   "source": [
    "# The vectorized function can be applied directly to the plane\n",
    "@time cplane = complex_plane()\n",
    "@time j0p = j0.(cplane)"
   ]
  },
  {
   "cell_type": "markdown",
   "metadata": {
    "collapsed": false
   },
   "source": [
    "What the complexplane function is doing is initializing xmin, xmax, ymin, ymax, xpoints, and ypoints to build the complex plane. The semicolon defines optional arguments, in this case xpoints and ypoints. If no arguments are inputted for xpoints and/or ypoints they will be defaulted to 2000. Then the j0 function is applied to the whole plane. "
   ]
  },
  {
   "cell_type": "code",
   "execution_count": 5,
   "metadata": {
    "collapsed": false
   },
   "outputs": [
   ],
   "source": [
    "mutable struct ComplexPlane\n",
    "    x :: LinSpace{Float64}\n",
    "    y :: LinSpace{Float64}\n",
    "    z :: Array{Number,2}\n",
    "    \n",
    "    function ComplexPlane(xmin=-2, xmax=2, ymin=-2, ymax=2;\n",
    "                            xpoints=2000, ypoints=2000)\n",
    "        x = linspace(xmin, xmax, xpoints)\n",
    "        y = linspace(ymin, ymax, ypoints)\n",
    "        z = x' .+ y.*im\n",
    "        new(x,y,z)\n",
    "    end\n",
    "end"
   ]
  },
  {
   "cell_type": "code",
   "execution_count": 6,
   "metadata": {
    "collapsed": false
   },
   "outputs": [
    {
     "data": {
      "text/plain": [
       "ComplexPlane"
      ]
     },
     "execution_count": 6,
     "metadata": {
     },
     "output_type": "execute_result"
    }
   ],
   "source": [
    "cplane = ComplexPlane(xpoints=200,ypoints=200);\n",
    "typeof(cplane)"
   ]
  },
  {
   "cell_type": "code",
   "execution_count": 7,
   "metadata": {
    "collapsed": false,
    "scrolled": true
   },
   "outputs": [
    {
     "name": "stdout",
     "output_type": "stream",
     "text": [
      "LinSpace{Float64}"
     ]
    },
    {
     "data": {
      "text/plain": [
       "200×200 Array{Int64,2}:\n",
       " 1  1  1  1  1  1  1  1  1  1  1  1  1  …  1  1  1  1  1  1  1  1  1  1  1  1\n",
       " 1  1  1  1  1  1  1  1  1  1  1  1  1     1  1  1  1  1  1  1  1  1  1  1  1\n",
       " 1  1  1  1  1  1  1  1  1  1  1  1  1     1  1  1  1  1  1  1  1  1  1  1  1\n",
       " 1  1  1  1  1  1  1  1  1  1  1  1  1     1  1  1  1  1  1  1  1  1  1  1  1\n",
       " 1  1  1  1  1  1  1  1  1  1  1  1  1     1  1  1  1  1  1  1  1  1  1  1  1\n",
       " 1  1  1  1  1  1  1  1  1  1  1  1  1  …  1  1  1  1  1  1  1  1  1  1  1  1\n",
       " 1  1  1  1  1  1  1  1  1  1  1  1  1     1  1  1  1  1  1  1  1  1  1  1  1\n",
       " 1  1  1  1  1  1  1  1  1  1  1  1  1     1  1  1  1  1  1  1  1  1  1  1  1\n",
       " 1  1  1  1  1  1  1  1  1  1  1  1  1     1  1  1  1  1  1  1  1  1  1  1  1\n",
       " 1  1  1  1  1  1  1  1  1  1  1  1  1     1  1  1  1  1  1  1  1  1  1  1  1\n",
       " 1  1  1  1  1  1  1  1  1  1  1  1  1  …  1  1  1  1  1  1  1  1  1  1  1  1\n",
       " 1  1  1  1  1  1  1  1  1  1  1  1  1     1  1  1  1  1  1  1  1  1  1  1  1\n",
       " 1  1  1  1  1  1  1  1  1  1  1  1  1     1  1  1  1  1  1  1  1  1  1  1  1\n",
       " ⋮              ⋮              ⋮        ⋱        ⋮              ⋮            \n",
       " 1  1  1  1  1  1  1  1  1  1  1  1  1     1  1  1  1  1  1  1  1  1  1  1  1\n",
       " 1  1  1  1  1  1  1  1  1  1  1  1  1     1  1  1  1  1  1  1  1  1  1  1  1\n",
       " 1  1  1  1  1  1  1  1  1  1  1  1  1  …  1  1  1  1  1  1  1  1  1  1  1  1\n",
       " 1  1  1  1  1  1  1  1  1  1  1  1  1     1  1  1  1  1  1  1  1  1  1  1  1\n",
       " 1  1  1  1  1  1  1  1  1  1  1  1  1     1  1  1  1  1  1  1  1  1  1  1  1\n",
       " 1  1  1  1  1  1  1  1  1  1  1  1  1     1  1  1  1  1  1  1  1  1  1  1  1\n",
       " 1  1  1  1  1  1  1  1  1  1  1  1  1     1  1  1  1  1  1  1  1  1  1  1  1\n",
       " 1  1  1  1  1  1  1  1  1  1  1  1  1  …  1  1  1  1  1  1  1  1  1  1  1  1\n",
       " 1  1  1  1  1  1  1  1  1  1  1  1  1     1  1  1  1  1  1  1  1  1  1  1  1\n",
       " 1  1  1  1  1  1  1  1  1  1  1  1  1     1  1  1  1  1  1  1  1  1  1  1  1\n",
       " 1  1  1  1  1  1  1  1  1  1  1  1  1     1  1  1  1  1  1  1  1  1  1  1  1\n",
       " 1  1  1  1  1  1  1  1  1  1  1  1  1     1  1  1  1  1  1  1  1  1  1  1  1"
      ]
     },
     "execution_count": 7,
     "metadata": {
     },
     "output_type": "execute_result"
    }
   ],
   "source": [
    "print(typeof(cplane.x))\n",
    "cplane.z = j0.(cplane.z)"
   ]
  },
  {
   "cell_type": "markdown",
   "metadata": {
    "collapsed": false
   },
   "source": [
    "The mutable structure is similar to classes in python, where the analagous __init__ function is defining the variable types. This is similar to defining an empty list for fs in our python julia plane."
   ]
  },
  {
   "cell_type": "code",
   "execution_count": 8,
   "metadata": {
    "collapsed": false
   },
   "outputs": [
    {
     "data": {
      "image/png": "[encoded data removed]"
     },
     "execution_count": 8,
     "metadata": {
     },
     "output_type": "execute_result"
    }
   ],
   "source": [
    "c = -1.037 + 0.17im                  #  Set starting point of julia set\n",
    "j(z) = juliamap(c, z)                #  Create julia map\n",
    "cplane = ComplexPlane()              #  Create 2000x2000 point complex plane\n",
    "jp = j.(cplane.z);                   #  Apply julia map to entire plane\n",
    "\n",
    "\n",
    "using PyPlot                         #  Load PyPlot package into the current namespace\n",
    "figure(1)\n",
    "xlabel(\"Re(z)\")\n",
    "ylabel(\"Im(z)\")\n",
    "title(\"Julia Set: c = \" * string(c))\n",
    "pcolormesh(cplane.x, cplane.y, jp, cmap=PyPlot.cm_get_cmap(\"hot\"))\n",
    "savefig(\"julia.png\")                 #  Also output figure to png file"
   ]
  },
  {
   "cell_type": "code",
   "execution_count": 9,
   "metadata": {
    "collapsed": false
   },
   "outputs": [
    {
     "name": "stderr",
     "output_type": "stream",
     "text": [
      "Kernel terminated -- this might be caused by running out of memory or hitting a bug in some library (e.g., forking too many processes, trying to access invalid memory, etc.). Consider restarting or upgrading your project or running the relevant code directly in a terminal to track down the cause."
     ]
    }
   ],
   "source": [
    "c = -0.624 + 0.435im                 #  Set starting point of julia set\n",
    "j(z) = juliamap(c, z)                #  Create julia map\n",
    "cplane = ComplexPlane()              #  Create 2000x2000 point complex plane\n",
    "jp = j.(cplane.z);                   #  Apply julia map to entire plane\n",
    "\n",
    "\n",
    "using PyPlot                         #  Load PyPlot package into the current namespace\n",
    "figure(1)\n",
    "xlabel(\"Re(z)\")\n",
    "ylabel(\"Im(z)\")\n",
    "title(\"Julia Set: c = \" * string(c))\n",
    "pcolormesh(cplane.x, cplane.y, jp, cmap=PyPlot.cm_get_cmap(\"jet\"))"
   ]
  },
  {
   "cell_type": "code",
   "execution_count": 0,
   "metadata": {
    "collapsed": false
   },
   "outputs": [
   ],
   "source": [
   ]
  }
 ],
 "metadata": {
  "kernelspec": {
   "display_name": "Julia",
   "language": "julia",
   "name": "julia"
  },
  "language_info": {
   "file_extension": ".jl",
   "mimetype": "application/julia",
   "name": "julia",
   "version": "0.6.0"
  }
 },
 "nbformat": 4,
 "nbformat_minor": 0
}